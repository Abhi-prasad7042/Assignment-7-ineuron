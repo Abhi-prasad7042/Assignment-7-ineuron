{
 "cells": [
  {
   "cell_type": "markdown",
   "id": "37ead784",
   "metadata": {},
   "source": [
    "### Question1\n",
    "\n",
    "What is the name of the feature responsible for generatig Regex object?\n",
    "\n",
    "### Answer:-\n",
    "\n",
    "For generating regex object we use re.compile() feature"
   ]
  },
  {
   "cell_type": "markdown",
   "id": "0739ef5a",
   "metadata": {},
   "source": [
    "### Question2\n",
    "\n",
    "Why do raw strings often appear in Regex objects?\n",
    "\n",
    "### Answer:-\n",
    "\n",
    "Raw strings often appear in regex because backslashes will not be escaped if we use raw string."
   ]
  },
  {
   "cell_type": "code",
   "execution_count": 2,
   "id": "939c73bc",
   "metadata": {},
   "outputs": [
    {
     "name": "stdout",
     "output_type": "stream",
     "text": [
      "\t hello\n"
     ]
    }
   ],
   "source": [
    "print(\"\\t hello\")"
   ]
  },
  {
   "cell_type": "code",
   "execution_count": 3,
   "id": "d8b39580",
   "metadata": {},
   "outputs": [
    {
     "name": "stdout",
     "output_type": "stream",
     "text": [
      "\\t hello\n"
     ]
    }
   ],
   "source": [
    "print(r\"\\t hello\")"
   ]
  },
  {
   "cell_type": "markdown",
   "id": "361e58bf",
   "metadata": {},
   "source": [
    "### Question3\n",
    "\n",
    "What is the return value of the search() method?\n",
    "\n",
    "### Answer:- \n",
    "\n",
    "The return value of search() method is Match."
   ]
  },
  {
   "cell_type": "markdown",
   "id": "8a649b7a",
   "metadata": {},
   "source": [
    "### Question4\n",
    "\n",
    "From a Match item, how do you get the actual strings that match the pattern?\n",
    "\n",
    "### Answer:-\n",
    "\n",
    "We get the actual strings with help of group() method."
   ]
  },
  {
   "cell_type": "code",
   "execution_count": 3,
   "id": "236e15d8",
   "metadata": {},
   "outputs": [],
   "source": [
    "import re\n",
    "text = \"\"\"\n",
    "abcdefghijklmnopqrstuvwxyz\n",
    "ABCDEFGHIJKLMNOPQRSTUVWXYZ\n",
    "367-111-4321\n",
    "123.523.1234\n",
    "400-009-4321\n",
    "500.702.1234\n",
    "900-234-4321\n",
    "800.346.1234\"\"\"\n",
    "\n",
    "pattern = re.compile(r'[A-Z]+')\n",
    "match = pattern.search(text)"
   ]
  },
  {
   "cell_type": "code",
   "execution_count": 7,
   "id": "be7e590a",
   "metadata": {},
   "outputs": [
    {
     "data": {
      "text/plain": [
       "'ABCDEFGHIJKLMNOPQRSTUVWXYZ'"
      ]
     },
     "execution_count": 7,
     "metadata": {},
     "output_type": "execute_result"
    }
   ],
   "source": [
    "match.group()"
   ]
  },
  {
   "cell_type": "markdown",
   "id": "9e1fb20a",
   "metadata": {},
   "source": [
    "### Question5\n",
    "\n",
    "In the regex which created from the r'(\\d\\d\\d)-(\\d\\d\\d-\\d\\d\\d\\d)', what does group zero cover? Group 2? Group3?\n",
    "\n",
    "### Answer:-\n",
    "\n",
    "The group 0 gives or covers the entire match, the group1 covers the first parentheses and group2 covers the second parentheses"
   ]
  },
  {
   "cell_type": "code",
   "execution_count": 9,
   "id": "42b4322b",
   "metadata": {},
   "outputs": [],
   "source": [
    "pattern = re.compile(r'(\\d\\d\\d)-(\\d\\d\\d-\\d\\d\\d\\d)')\n",
    "match = pattern.search(text)"
   ]
  },
  {
   "cell_type": "code",
   "execution_count": 14,
   "id": "dd9556e9",
   "metadata": {},
   "outputs": [
    {
     "data": {
      "text/plain": [
       "'321-555-4321'"
      ]
     },
     "execution_count": 14,
     "metadata": {},
     "output_type": "execute_result"
    }
   ],
   "source": [
    "match.group(0)"
   ]
  },
  {
   "cell_type": "code",
   "execution_count": 15,
   "id": "dde823f2",
   "metadata": {},
   "outputs": [
    {
     "data": {
      "text/plain": [
       "'321'"
      ]
     },
     "execution_count": 15,
     "metadata": {},
     "output_type": "execute_result"
    }
   ],
   "source": [
    "match.group(1)"
   ]
  },
  {
   "cell_type": "code",
   "execution_count": 16,
   "id": "55ba3244",
   "metadata": {},
   "outputs": [
    {
     "data": {
      "text/plain": [
       "'555-4321'"
      ]
     },
     "execution_count": 16,
     "metadata": {},
     "output_type": "execute_result"
    }
   ],
   "source": [
    "match.group(2)"
   ]
  },
  {
   "cell_type": "markdown",
   "id": "51773a56",
   "metadata": {},
   "source": [
    "### Question6\n",
    "\n",
    "In standard expression syntax, parentheses and intervals have distinct meanings. How can you tell a regex that you want it to fit real parentheses and periods?\n",
    "\n",
    "### Answer:-\n",
    "\n",
    "To describe parentheses and periods we can use backslash it helps to escaped. e.g- \\.,\\(,\\)."
   ]
  },
  {
   "cell_type": "markdown",
   "id": "28c3acc9",
   "metadata": {},
   "source": [
    "### Question7\n",
    "\n",
    "The findall() method returns a string list or a list or string tuples. What causes it to return one of the two opetions?\n",
    "\n",
    "### Answer:-\n",
    "\n",
    "If there is no group then it returns list of string and if there is a group then it will return list of tuples.\n",
    "\n",
    "**e.g**\n"
   ]
  },
  {
   "cell_type": "code",
   "execution_count": 22,
   "id": "788f78c4",
   "metadata": {},
   "outputs": [],
   "source": [
    "pattern = re.compile(r'(\\d\\d\\d)-(\\d\\d\\d-\\d\\d\\d\\d)')\n",
    "match = pattern.findall(text)"
   ]
  },
  {
   "cell_type": "code",
   "execution_count": 23,
   "id": "6ed4c5e0",
   "metadata": {},
   "outputs": [
    {
     "data": {
      "text/plain": [
       "[('367', '111-4321'), ('400', '009-4321'), ('900', '234-4321')]"
      ]
     },
     "execution_count": 23,
     "metadata": {},
     "output_type": "execute_result"
    }
   ],
   "source": [
    "match"
   ]
  },
  {
   "cell_type": "code",
   "execution_count": 24,
   "id": "68a964c7",
   "metadata": {},
   "outputs": [],
   "source": [
    "pattern = re.compile(r'\\d\\d\\d-\\d\\d\\d-\\d\\d\\d\\d')\n",
    "match = pattern.findall(text)"
   ]
  },
  {
   "cell_type": "code",
   "execution_count": 25,
   "id": "4843b3f1",
   "metadata": {},
   "outputs": [
    {
     "data": {
      "text/plain": [
       "['367-111-4321', '400-009-4321', '900-234-4321']"
      ]
     },
     "execution_count": 25,
     "metadata": {},
     "output_type": "execute_result"
    }
   ],
   "source": [
    "match"
   ]
  },
  {
   "cell_type": "markdown",
   "id": "3d3399cd",
   "metadata": {},
   "source": [
    "### Question8\n",
    "\n",
    "In standard expressions, what does the | character mean?\n",
    "\n",
    "### Answer:-\n",
    "\n",
    "This means `either, or`"
   ]
  },
  {
   "cell_type": "markdown",
   "id": "8ab80977",
   "metadata": {},
   "source": [
    "### Question9\n",
    "\n",
    "In regular expressions, what does the character stand for?\n",
    "\n",
    "### Answer:-\n",
    "\n",
    "Character stands for a letter, a number or underscore [a-zA-z0-9_]."
   ]
  },
  {
   "cell_type": "markdown",
   "id": "83ae271e",
   "metadata": {},
   "source": [
    "### Question10\n",
    "\n",
    "In regular expression, what is the difference between the + and * characters?\n",
    "\n",
    "### Answer:- \n",
    "\n",
    "The difference between these quantifiers is the `+` matches 1 or more and `*` matches zero or more."
   ]
  },
  {
   "cell_type": "markdown",
   "id": "8d811d12",
   "metadata": {},
   "source": [
    "### Question11\n",
    "\n",
    "What is the difference between {4} and {4,5} in regular expression?\n",
    "\n",
    "### Answer:-\n",
    "\n",
    "The {4} is exact number and {4,5} it tells the range."
   ]
  },
  {
   "cell_type": "markdown",
   "id": "dcaeb720",
   "metadata": {},
   "source": [
    "### Question12\n",
    "\n",
    "What do you mean by the \\d, \\w, and \\s shorthand character classes signify in regular expressions?\n",
    "\n",
    "### Answer:-\n",
    "\n",
    "The meaning of these regular expressions is \\d is digit(0-9), \\w is word character (a-z,A-Z,0-9,_) and \\s is whitespace (space, tab, newline)."
   ]
  },
  {
   "cell_type": "markdown",
   "id": "c12dc138",
   "metadata": {},
   "source": [
    "### Question13\n",
    "\n",
    "What do you means by \\D,\\W, and \\S shorthand character classes signify in regular expressions?\n",
    "\n",
    "### Answer:-\n",
    "\n",
    "Meaning of these expressions is \\D is not a digit, \\W is not a word character, and \\S is not whitespace."
   ]
  },
  {
   "cell_type": "markdown",
   "id": "c3f92254",
   "metadata": {},
   "source": [
    "### Question14\n",
    "\n",
    "What is the difference between .*? and .* ?\n",
    "\n",
    "### Answer:-\n",
    "\n",
    "`.*?` means is `.` matches any character and any number of times `*` and `?` means is optional it matches zero or one. If we use this expression we well get blank string.\n",
    "\n",
    "`.*` this will capture a run of any length and any character."
   ]
  },
  {
   "cell_type": "markdown",
   "id": "77117978",
   "metadata": {},
   "source": [
    "### Question15\n",
    "\n",
    "What is the syntax for matching both numbers and lowercase letters with a character class?\n",
    "\n",
    "### Answer:-\n",
    "\n",
    "Syntax for matching both numbers and lowercase letters is [a-z0-9]."
   ]
  },
  {
   "cell_type": "markdown",
   "id": "0249683f",
   "metadata": {},
   "source": [
    "### Question16\n",
    "\n",
    "What is the procedure for making a normal expression in regax case insensitive?\n",
    "\n",
    "### Answer:-\n",
    "\n",
    "We can pass an argument re.l or re.IGNORECASE in re.compile()."
   ]
  },
  {
   "cell_type": "markdown",
   "id": "e431ca87",
   "metadata": {},
   "source": [
    "### Question17\n",
    "\n",
    "What does the `.` character normally match? What does it match if re.DOTALL is passed as 2nd argument in re.compile() ?\n",
    "\n",
    "### Answer:-\n",
    "\n",
    "`.` This character basically matche any character except new line. But we pass re.DOTALL then it `.` character matches everything even new line also."
   ]
  },
  {
   "cell_type": "markdown",
   "id": "8208e4b9",
   "metadata": {},
   "source": [
    "### Question18\n",
    "\n",
    "If numReg = re.compile(r\"\\d+\"), what will numRegex.sub('X',11 drummers, 10 pipers, fiver rings, 4 hen').\n",
    "\n",
    "### Answer:-\n",
    "\n",
    "'X drummers, X pipers, fiver rings, X hen'"
   ]
  },
  {
   "cell_type": "code",
   "execution_count": 7,
   "id": "a2da2cb2",
   "metadata": {},
   "outputs": [],
   "source": [
    "numReg = re.compile(r\"\\d+\")"
   ]
  },
  {
   "cell_type": "code",
   "execution_count": 8,
   "id": "dea0b73e",
   "metadata": {},
   "outputs": [
    {
     "data": {
      "text/plain": [
       "'X drummers, X pipers, fiver rings, X hen'"
      ]
     },
     "execution_count": 8,
     "metadata": {},
     "output_type": "execute_result"
    }
   ],
   "source": [
    "numReg.sub('X','11 drummers, 10 pipers, fiver rings, 4 hen')"
   ]
  },
  {
   "cell_type": "markdown",
   "id": "4eef9852",
   "metadata": {},
   "source": [
    "### Question19\n",
    "\n",
    "What does passing re.VERBOSE as the 2nd argument to re.compile() allow to do?\n",
    "\n",
    "### Answer:-\n",
    "\n",
    "The re.VERBOSE allows whitespace and comments to the string in re.compile() these will look more readable. When we write big string in re.compile() it looks weird, so there we can use re.VERBOSE argument."
   ]
  },
  {
   "cell_type": "markdown",
   "id": "93f0256c",
   "metadata": {},
   "source": [
    "### Question20\n",
    "\n",
    "How would you write a regex that match a number with comma for every three digits? It must match the given following:\n",
    "\n",
    "\"42\"\n",
    "\n",
    "'1,234'\n",
    "\n",
    "'6,368,745'\n",
    "\n",
    "but not the following:\n",
    "\n",
    "'12,34,567'(which has only two digit between commas)\n",
    "\n",
    "'1234' (which lacks commas)\n",
    "\n",
    "### Answer:-\n",
    "`^\\d{1,3}(,\\d{3})*$`"
   ]
  },
  {
   "cell_type": "code",
   "execution_count": 79,
   "id": "130b31d1",
   "metadata": {},
   "outputs": [],
   "source": [
    "s = \"1,234,123,123\"\n",
    "a = re.compile(r'^\\d{1,3}(,\\d{3})*$')"
   ]
  },
  {
   "cell_type": "code",
   "execution_count": 80,
   "id": "6e945655",
   "metadata": {},
   "outputs": [],
   "source": [
    "a = a.finditer(s)"
   ]
  },
  {
   "cell_type": "code",
   "execution_count": 81,
   "id": "a8a51d9b",
   "metadata": {},
   "outputs": [
    {
     "name": "stdout",
     "output_type": "stream",
     "text": [
      "<re.Match object; span=(0, 13), match='1,234,123,123'>\n"
     ]
    }
   ],
   "source": [
    "for i in a:\n",
    "    print(i)"
   ]
  },
  {
   "cell_type": "markdown",
   "id": "7957e6ce",
   "metadata": {},
   "source": [
    "### Question21\n",
    "\n",
    "How would you write a regex that matches the full name of someone whose last name is Watanabe? You can assume that the first name that comes before it will always be one word that begins with a capital letter. The regex must match the following:\n",
    "\n",
    "'Haruto Watanabe'\n",
    "\n",
    "'Alice Watanabe'\n",
    "\n",
    "'RoboCop Watanabe'\n",
    "\n",
    "but not the following:\n",
    "\n",
    "'haruto Watanabe' (where the first name is not capitalized)\n",
    "\n",
    "'Mr. Watanabe' (which the preceding word has a nonletter character)\n",
    "\n",
    "'Haruto watanabe' (where Watanabe is not capitalized)\n",
    "\n",
    "### Answer:-\n",
    "\n"
   ]
  },
  {
   "cell_type": "code",
   "execution_count": 128,
   "id": "626e1a3b",
   "metadata": {},
   "outputs": [],
   "source": [
    "patt = re.compile(r'^[A-Z][a-zA-z]*\\sWatanabe')"
   ]
  },
  {
   "cell_type": "code",
   "execution_count": 129,
   "id": "5f46074f",
   "metadata": {},
   "outputs": [],
   "source": [
    "s = 'Haruto Watanabe'\n",
    "t = 'Alice Watanabe'\n",
    "r = 'RoboCop Watanabe'\n",
    "u = \"Mr. Watanabe\"\n",
    "g = 'Haruto watanabe' "
   ]
  },
  {
   "cell_type": "code",
   "execution_count": 135,
   "id": "f474eea8",
   "metadata": {},
   "outputs": [
    {
     "name": "stdout",
     "output_type": "stream",
     "text": [
      "<re.Match object; span=(0, 15), match='Haruto Watanabe'>\n"
     ]
    }
   ],
   "source": [
    "a = patt.finditer(s)\n",
    "\n",
    "for i in a:\n",
    "    print(i)"
   ]
  },
  {
   "cell_type": "markdown",
   "id": "d6632915",
   "metadata": {},
   "source": [
    "### Question22\n",
    "\n",
    "How would you write a regex that matches a sentence where the first word is either Alice, Bob, or Carol; the second word is either eats, pets, or throws; the third word is apples, cats, or baseballs; and the sentence ends with a period? This regex should be case-insensitive. It must match the following:\n",
    "\n",
    "'Alice eats apples.'\n",
    "\n",
    "'Bob pets cats'\n",
    "\n",
    "'Carol throws baseballs.'\n",
    "\n",
    "'Alice throws baseballs.'\n",
    "\n",
    "'BOB EATS CATS.'\n",
    "\n",
    "but not the following:\n",
    "\n",
    "'RoboCop eats apples.'\n",
    "\n",
    "'ALICE THROWS FOOTBALLS.'\n",
    "\n",
    "'Carol eats 7 cats.'\n",
    "\n",
    "### Answer:-\n",
    "\n",
    "`^(Alice|Bob|Carol)\\s(eats|pets|throws)\\s(apples|cats|baseballs)\\.`"
   ]
  },
  {
   "cell_type": "code",
   "execution_count": 137,
   "id": "5de4fceb",
   "metadata": {},
   "outputs": [],
   "source": [
    "patt = re.compile(r'^(Alice|Bob|Carol)\\s(eats|pets|throws)\\s(apples|cats|baseballs)\\.')"
   ]
  },
  {
   "cell_type": "code",
   "execution_count": 146,
   "id": "e3db71b5",
   "metadata": {},
   "outputs": [],
   "source": [
    "s = 'Alice eats apples.'\n",
    "t = 'RoboCop eats apples.'\n",
    "r = 'Carol eats 7 cats.'\n",
    "q = 'Alice throws baseballs.'\n",
    "w = 'Carol throws baseballs.'"
   ]
  },
  {
   "cell_type": "code",
   "execution_count": 147,
   "id": "04db1758",
   "metadata": {},
   "outputs": [
    {
     "name": "stdout",
     "output_type": "stream",
     "text": [
      "<re.Match object; span=(0, 23), match='Carol throws baseballs.'>\n"
     ]
    }
   ],
   "source": [
    "a = patt.finditer(w)\n",
    "\n",
    "for i in a:\n",
    "    print(i)"
   ]
  }
 ],
 "metadata": {
  "kernelspec": {
   "display_name": "Python 3 (ipykernel)",
   "language": "python",
   "name": "python3"
  },
  "language_info": {
   "codemirror_mode": {
    "name": "ipython",
    "version": 3
   },
   "file_extension": ".py",
   "mimetype": "text/x-python",
   "name": "python",
   "nbconvert_exporter": "python",
   "pygments_lexer": "ipython3",
   "version": "3.8.11"
  }
 },
 "nbformat": 4,
 "nbformat_minor": 5
}
